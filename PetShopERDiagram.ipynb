{
  "nbformat": 4,
  "nbformat_minor": 0,
  "metadata": {
    "colab": {
      "name": "Untitled0.ipynb",
      "provenance": [],
      "authorship_tag": "ABX9TyMaJLKUEfbm984CdceeQ0mi",
      "include_colab_link": true
    },
    "kernelspec": {
      "name": "python3",
      "display_name": "Python 3"
    }
  },
  "cells": [
    {
      "cell_type": "markdown",
      "metadata": {
        "id": "view-in-github",
        "colab_type": "text"
      },
      "source": [
        "<a href=\"https://colab.research.google.com/github/dep5289/1stRepository/blob/master/PetShopERDiagram.ipynb\" target=\"_parent\"><img src=\"https://colab.research.google.com/assets/colab-badge.svg\" alt=\"Open In Colab\"/></a>"
      ]
    },
    {
      "cell_type": "code",
      "metadata": {
        "id": "0X1Hmf5iRLXT"
      },
      "source": [
        ""
      ],
      "execution_count": null,
      "outputs": []
    },
    {
      "cell_type": "markdown",
      "metadata": {
        "id": "DtlEQITbSueS"
      },
      "source": [
        "My pet shop ER Diagram features 6 tables with at least 3 attributes per table and 3 different relationships between the six. The six tables are Enclosures, Pets, Food, Customers, AntimalTransactions, and FoodTransaction. Enclosures have a relationship with Pets, Pets have a relationship with Food, and Food has a relationship with the customers. Customers purchase Food, Pets are fed Food, and Pets are kept in enclosures. Customers purchase none to many Food, Food is fed to none to many Pets, and Pets are kept in one and only one enclosure. In contrast to the one way of the relationship, Enclosures keep none to many pets, Pets are fed one to many Food, and Food is purchased by none to many customers."
      ]
    },
    {
      "cell_type": "markdown",
      "metadata": {
        "id": "ImmB_cYoRNxc"
      },
      "source": [
        "![image](https://raw.githubusercontent.com/dep5289/1stRepository/master/PetShopERDiagram-2.png)"
      ]
    }
  ]
}