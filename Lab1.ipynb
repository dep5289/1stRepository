{
  "nbformat": 4,
  "nbformat_minor": 0,
  "metadata": {
    "colab": {
      "name": "Lab1.ipynb",
      "provenance": [],
      "authorship_tag": "ABX9TyPhd9rPAv4VAd7IbG4Gh3y2",
      "include_colab_link": true
    },
    "kernelspec": {
      "name": "python3",
      "display_name": "Python 3"
    }
  },
  "cells": [
    {
      "cell_type": "markdown",
      "metadata": {
        "id": "view-in-github",
        "colab_type": "text"
      },
      "source": [
        "<a href=\"https://colab.research.google.com/github/dep5289/1stRepository/blob/master/Lab1.ipynb\" target=\"_parent\"><img src=\"https://colab.research.google.com/assets/colab-badge.svg\" alt=\"Open In Colab\"/></a>"
      ]
    },
    {
      "cell_type": "code",
      "metadata": {
        "id": "N7d6ZVJO4ngK",
        "colab_type": "code",
        "colab": {}
      },
      "source": [
        ""
      ],
      "execution_count": null,
      "outputs": []
    },
    {
      "cell_type": "markdown",
      "metadata": {
        "id": "hMHsKjXC5lWy",
        "colab_type": "text"
      },
      "source": [
        "###Do you like Jupyter Notebooks?\n",
        "\n"
      ]
    },
    {
      "cell_type": "markdown",
      "metadata": {
        "id": "UvELIw555zU4",
        "colab_type": "text"
      },
      "source": [
        "I like Jupyter Notebooks so far. It reminds of my IST 140 class which is Java. There is much to learn in that class and I am excited for it."
      ]
    },
    {
      "cell_type": "markdown",
      "metadata": {
        "id": "h1eH26Sa6I6u",
        "colab_type": "text"
      },
      "source": [
        "###What do you want to learn more about in Jupyter Notebooks?"
      ]
    },
    {
      "cell_type": "markdown",
      "metadata": {
        "id": "K8Di_EhX6abL",
        "colab_type": "text"
      },
      "source": [
        "Much like how I talked about my IST 140 class in the previous section, I simply want to become familar with the interface of Jupyter Notebooks and be able to navigate it with a breeze. I am certain I will achieve that."
      ]
    },
    {
      "cell_type": "markdown",
      "metadata": {
        "id": "t9t2KiGw6-zx",
        "colab_type": "text"
      },
      "source": [
        "![photo](https://raw.githubusercontent.com/dep5289/1stRepository/master/Images/Photo%201.jpg)"
      ]
    }
  ]
}