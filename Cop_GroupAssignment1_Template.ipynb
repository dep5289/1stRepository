{
  "nbformat": 4,
  "nbformat_minor": 0,
  "metadata": {
    "colab": {
      "name": "Cop GroupAssignment1-Template.ipynb",
      "provenance": [],
      "include_colab_link": true
    },
    "kernelspec": {
      "name": "python3",
      "display_name": "Python 3"
    }
  },
  "cells": [
    {
      "cell_type": "markdown",
      "metadata": {
        "id": "view-in-github",
        "colab_type": "text"
      },
      "source": [
        "<a href=\"https://colab.research.google.com/github/dep5289/1stRepository/blob/master/Cop_GroupAssignment1_Template.ipynb\" target=\"_parent\"><img src=\"https://colab.research.google.com/assets/colab-badge.svg\" alt=\"Open In Colab\"/></a>"
      ]
    },
    {
      "cell_type": "markdown",
      "metadata": {
        "id": "UblhAIGuGF27",
        "colab_type": "text"
      },
      "source": [
        "# Project Title (edit)"
      ]
    },
    {
      "cell_type": "markdown",
      "metadata": {
        "id": "RlR0_Ol4GW3b",
        "colab_type": "text"
      },
      "source": [
        "### what is your idea?"
      ]
    },
    {
      "cell_type": "markdown",
      "metadata": {
        "id": "HU68Zv5MGY97",
        "colab_type": "text"
      },
      "source": [
        "Our idea is the shopping and delivery service known as Amazon. Amazon will be our database and entities will include the online cart, items in the cart, the checkout, and the recommended items."
      ]
    },
    {
      "cell_type": "markdown",
      "metadata": {
        "id": "45Q0PBrIGiIg",
        "colab_type": "text"
      },
      "source": [
        "### what makes it unique?"
      ]
    },
    {
      "cell_type": "markdown",
      "metadata": {
        "id": "8WOfTAuqGjoc",
        "colab_type": "text"
      },
      "source": [
        "What makes it unique is the relevance of the online shopping tool. Amazon is more applicable in 2020, as it is widely used across the U.S. and other countries. "
      ]
    },
    {
      "cell_type": "markdown",
      "metadata": {
        "id": "dVrktWdXGl19",
        "colab_type": "text"
      },
      "source": [
        "### is this a brand-new product or business, or are you borrowing from another business?"
      ]
    },
    {
      "cell_type": "markdown",
      "metadata": {
        "id": "MmGY0leUGnaN",
        "colab_type": "text"
      },
      "source": [
        "We are borrowing from another business. This is not a brand-new product."
      ]
    },
    {
      "cell_type": "markdown",
      "metadata": {
        "id": "k3oJzVDPGnws",
        "colab_type": "text"
      },
      "source": [
        "### describe a typical business interaction or a day at your business."
      ]
    },
    {
      "cell_type": "markdown",
      "metadata": {
        "id": "GeEKl-lUG1x5",
        "colab_type": "text"
      },
      "source": [
        "A typical business interaction or day at the business involves shoppers adding items to their digital cart. These shoppers then make purchases from these carts through credit or debit cards. Factory workers then take these orders, ship them, and deliver them based upon what day they are set to deliver. With time, the products are delivered and those who have had products long enough may make reviews under their product. "
      ]
    },
    {
      "cell_type": "markdown",
      "metadata": {
        "id": "iUFoC5BuGpID",
        "colab_type": "text"
      },
      "source": [
        "### list your 5 entities/tables and for each, provide details about what data will be stored in the entities/tables."
      ]
    },
    {
      "cell_type": "markdown",
      "metadata": {
        "id": "AiZXrfSMGqZm",
        "colab_type": "text"
      },
      "source": [
        "1. Customer\n",
        "\n",
        "Name, shipping, and billing info will be stored.\n",
        "2. Order\n",
        "\n",
        "Products, arrive date, and shipping date will be stored.\n",
        "3. Product\n",
        "\n",
        "Size, amount, and color/pattern will be stored.\n",
        "4. Shipper\n",
        "\n",
        "Name, Shipping ID, and contact info will be stored.\n",
        "5. Supplier\n",
        "\n",
        "Address, name, and business ID will all be stored."
      ]
    },
    {
      "cell_type": "markdown",
      "metadata": {
        "id": "h2mJWTewHLSn",
        "colab_type": "text"
      },
      "source": [
        "Draw IO Entity Relationship Diagram \n",
        "\n",
        "- save your ER Diagram in Draw.io as PNG and upload it to GitHub\n",
        "\n"
      ]
    },
    {
      "cell_type": "markdown",
      "metadata": {
        "id": "WFQXwieoHiCe",
        "colab_type": "text"
      },
      "source": [
        "### provide a goal for your project "
      ]
    },
    {
      "cell_type": "markdown",
      "metadata": {
        "id": "cKmoiVHrHnHF",
        "colab_type": "text"
      },
      "source": [
        "The goal for this project is two things. The first is that we create an efficient ER diagram and the second is that we can successfully use these entities/tables for the rest of the semester."
      ]
    },
    {
      "cell_type": "markdown",
      "metadata": {
        "id": "23EggT3gp-2z",
        "colab_type": "text"
      },
      "source": [
        "![image](https://raw.githubusercontent.com/dep5289/1stRepository/master/ERTemplateAmazon.png)"
      ]
    }
  ]
}