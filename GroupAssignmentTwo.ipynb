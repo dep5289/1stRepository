{
  "nbformat": 4,
  "nbformat_minor": 0,
  "metadata": {
    "colab": {
      "name": "GroupAssignment2.ipynb",
      "provenance": [],
      "authorship_tag": "ABX9TyO4IqFZ0bh1mdXKKqWaOWw+",
      "include_colab_link": true
    },
    "kernelspec": {
      "name": "python3",
      "display_name": "Python 3"
    }
  },
  "cells": [
    {
      "cell_type": "markdown",
      "metadata": {
        "id": "view-in-github",
        "colab_type": "text"
      },
      "source": [
        "<a href=\"https://colab.research.google.com/github/dep5289/1stRepository/blob/master/GroupAssignmentTwo.ipynb\" target=\"_parent\"><img src=\"https://colab.research.google.com/assets/colab-badge.svg\" alt=\"Open In Colab\"/></a>"
      ]
    },
    {
      "cell_type": "markdown",
      "metadata": {
        "id": "yM8uBBxEwmwP"
      },
      "source": [
        "![image](https://raw.githubusercontent.com/dep5289/1stRepository/master/GroupAssignment2.png)"
      ]
    },
    {
      "cell_type": "markdown",
      "metadata": {
        "id": "c0YAcVqwwprC"
      },
      "source": [
        "This is our Entity Relationship Diagram based upon Amazon, the e-commerce website. The five tables of our ER diagram are Order, Customer, Product, Shipper, and Supplier. When it comes to the relationship between each of these tables, Orders are made by Customers, Customers purchase Products, and Suppliers supply Shippers. The process in our ER diagram is that Customers purchase products, in which those products are put into an order. After the order is made, there is a shipper and a supplier. Each have their own duties. The supplier supplies the products to the shipper so the order can be fulfilled. When it comes to why we designed the ER diagram the way we did comes from one of our group members Daniel. He said, “It was designed to look like a conveyor belt. There is a start, middle, and a finish. The conveyor belt starts the moment a customer places a product in their shopping cart. The conveyor belt moves when the customer makes the order and the order is shipped. And the conveyor belt ends at the customer again, receiving their order. This process hopefully will go even further with Group Assignment number 3.” Another reason for why we did the ER diagram as presented is because it follows along with what has been taught in class and primarily what we have learned. We structured this ER diagram around examples from class including the example of students taking courses and teachers/professors teaching courses. We want to make our ER diagram as user-friendly as we could, not generic, but having a flow. "
      ]
    }
  ]
}